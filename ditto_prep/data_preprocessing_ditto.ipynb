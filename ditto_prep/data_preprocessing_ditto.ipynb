{
 "cells": [
  {
   "cell_type": "code",
   "execution_count": null,
   "metadata": {},
   "outputs": [],
   "source": [
    "import warnings\n",
    "warnings.filterwarnings(\"ignore\")\n",
    "import data_prep_ditto_util as prep_util\n",
    "import data_prep_consts as prep_consts\n",
    "%load_ext autoreload\n",
    "%autoreload 2"
   ]
  },
  {
   "attachments": {},
   "cell_type": "markdown",
   "metadata": {},
   "source": [
    "Read in prepared Data"
   ]
  },
  {
   "cell_type": "code",
   "execution_count": 91,
   "metadata": {},
   "outputs": [],
   "source": [
    "coypu = prep_util.read_csv_file(prep_consts.COYPU_PATH_PREP)\n",
    "scm = prep_util.read_csv_file(prep_consts.SCM_PATH_PREP)"
   ]
  },
  {
   "attachments": {},
   "cell_type": "markdown",
   "metadata": {},
   "source": [
    "Generate country-based datasets"
   ]
  },
  {
   "cell_type": "code",
   "execution_count": 92,
   "metadata": {},
   "outputs": [],
   "source": [
    "scm_germany = scm[scm.Country == 'DE'].reset_index(drop = True)\n",
    "scm_china = scm[scm.Country == 'CN'].reset_index(drop = True)\n",
    "scm_usa = scm[scm.Country == 'US'].reset_index(drop = True)\n",
    "\n",
    "coypu_germany = coypu[coypu.Country == 'DE'].reset_index(drop = True)\n",
    "coypu_china = coypu[coypu.Country == 'CN'].reset_index(drop = True)\n",
    "coypu_usa = coypu[coypu.Country == 'US'].reset_index(drop = True)"
   ]
  },
  {
   "cell_type": "code",
   "execution_count": 93,
   "metadata": {},
   "outputs": [],
   "source": [
    "scm_germany['Parsed_Company'] = scm_germany['Parsed_Company'].fillna('')\n",
    "scm_china['Parsed_Company'] = scm_china['Parsed_Company'].fillna('')\n",
    "scm_usa['Parsed_Company'] = scm_usa['Parsed_Company'].fillna('')\n",
    "\n",
    "coypu_germany['Parsed_Company'] = coypu_germany['Parsed_Company'].fillna('')\n",
    "coypu_china['Parsed_Company'] = coypu_china['Parsed_Company'].fillna('')\n",
    "coypu_usa['Parsed_Company'] = coypu_usa['Parsed_Company'].fillna('')"
   ]
  },
  {
   "attachments": {},
   "cell_type": "markdown",
   "metadata": {},
   "source": [
    "Save COYPU and SCM as COLVAL Files"
   ]
  },
  {
   "cell_type": "code",
   "execution_count": 94,
   "metadata": {},
   "outputs": [],
   "source": [
    "col_val_builder_coy = prep_util.ColValueBuilder()\\\n",
    "                .add_column('Parsed_Company', 'COMPANY')\\\n",
    "                .add_column('Company_Category', 'CO_CATEGORY')\\\n",
    "                .add_column('long', 'LONG')\\\n",
    "                .add_column('lat', 'LAT')\n",
    "\n",
    "col_val_builder_scm = prep_util.ColValueBuilder()\\\n",
    "                .add_column('Parsed_Company', 'COMPANY')\\\n",
    "                .add_column('Company_Category', 'CO_CATEGORY')\\\n",
    "                .add_column('long', 'LONG')\\\n",
    "                .add_column('lat', 'LAT')"
   ]
  },
  {
   "attachments": {},
   "cell_type": "markdown",
   "metadata": {},
   "source": [
    "Preparing Ditto Blocking File - Generating COL VAL Pairs"
   ]
  },
  {
   "cell_type": "code",
   "execution_count": 98,
   "metadata": {},
   "outputs": [],
   "source": [
    "counter_positive = 0\n",
    "\n",
    "def generate_positive_country_pairs(country_scm, country_coypu, filename, threshold = prep_consts.COMPARE_COMPANY_THRESHOLD):\n",
    "  global counter_positive\n",
    "  \n",
    "  for i in range(len(country_scm['Country']) - 1):\n",
    "    for j in range(len(country_coypu['Country']) - 1):\n",
    "      \n",
    "      if prep_util.compare_company_names(country_scm['Parsed_Company'][i], country_coypu['Parsed_Company'][j], threshold):\n",
    "        #print(country_scm['Company'][i], country_coypu['Company'][j])\n",
    "        counter_positive += 1\n",
    "        matched_pair = ''\n",
    "        matched_pair = prep_util.form_colval_pairs([\n",
    "                                                    ['COMPANY', country_scm['Parsed_Company'][i]], \n",
    "                                                    ['CO_CATEGORY', country_scm['Company_Category'][i]],\n",
    "                                                    ['LONG', country_scm['long'][i]],\n",
    "                                                    ['LAT', country_scm['lat'][i]]\n",
    "                                                    ], \n",
    "                                                   [\n",
    "                                                    ['COMPANY', country_coypu['Parsed_Company'][j]],\n",
    "                                                    ['CO_CATEGORY', country_coypu['Company_Category'][j]],\n",
    "                                                    ['LONG', country_coypu['long'][j]],\n",
    "                                                    ['LAT', country_coypu['lat'][j]]\n",
    "                                                    ],\n",
    "                                                    1)\n",
    "        print(matched_pair)\n",
    "        print('reached index i: ', i, 'reached index j: ', j)\n",
    "        \n",
    "        prep_util.save_txt_to_file(filename, matched_pair + '\\n')"
   ]
  },
  {
   "cell_type": "code",
   "execution_count": null,
   "metadata": {},
   "outputs": [],
   "source": [
    "print('Starting DE country search')\n",
    "generate_positive_country_pairs(scm_germany, coypu_germany, './data/blocker_data_de.txt')\n",
    "print('Starting CN country search')\n",
    "generate_positive_country_pairs(scm_china, coypu_china, './data/blocker_data_cn.txt', 0.15)\n",
    "print('Starting US country search')\n",
    "generate_positive_country_pairs(scm_usa, coypu_usa, './data/blocker_data_us.txt')"
   ]
  },
  {
   "cell_type": "code",
   "execution_count": 67,
   "metadata": {},
   "outputs": [],
   "source": [
    "block_us = len(open(\"./data/blocker_data_us.txt\", encoding = 'utf-8').readlines())\n",
    "block_de = len(open(\"./data/blocker_data_de.txt\", encoding = 'utf-8').readlines())\n",
    "block_cn = len(open(\"./data/blocker_data_cn.txt\", encoding = 'utf-8').readlines())"
   ]
  },
  {
   "cell_type": "code",
   "execution_count": 101,
   "metadata": {},
   "outputs": [],
   "source": [
    "import random\n",
    "\n",
    "def generate_negative_samples(scm_country, coypu_country, filename, sample_count):\n",
    "  concated_negatives = ''\n",
    "  negative_vals_count = 0\n",
    "  \n",
    "  while negative_vals_count < sample_count:\n",
    "\n",
    "    rndm_scm_idx = random.randint(0, len(scm_country['Country']) - 1)\n",
    "    rndm_coy_idx = random.randint(0, len(coypu_country['Country']) - 1)\n",
    "\n",
    "    comp_value = prep_util.compare_company_names(scm_country['Parsed_Company'][rndm_scm_idx], coypu_country['Parsed_Company'][rndm_coy_idx], prep_consts.COMPARE_COMPANY_THRESHOLD)\n",
    "    \n",
    "    if comp_value == 0:\n",
    "      negative_vals_count += 1\n",
    "      matched_pair = prep_util.form_colval_pairs([\n",
    "                                                  ['COMPANY', scm_country['Parsed_Company'][rndm_scm_idx]],\n",
    "                                                  ['CO_CATEGORY', scm_country['Company_Category'][rndm_scm_idx]],\n",
    "                                                  ['LONG', scm_country['long'][rndm_scm_idx]],\n",
    "                                                  ['LAT', scm_country['lat'][rndm_scm_idx]]\n",
    "                                                  ],\n",
    "                                                  [\n",
    "                                                  ['COMPANY', coypu_country['Parsed_Company'][rndm_coy_idx]],\n",
    "                                                  ['CO_CATEGORY', coypu_country['Company_Category'][rndm_coy_idx]],\n",
    "                                                  ['LONG', coypu_country['long'][rndm_coy_idx]],\n",
    "                                                  ['LAT', coypu_country['lat'][rndm_coy_idx]]\n",
    "                                                  ],\n",
    "                                                  0)\n",
    "      \n",
    "      concated_negatives += matched_pair + '\\n'\n",
    "      print(matched_pair)\n",
    "      negative_vals_count += 1\n",
    "\n",
    "  prep_util.save_txt_to_file(filename , concated_negatives)"
   ]
  },
  {
   "cell_type": "code",
   "execution_count": null,
   "metadata": {},
   "outputs": [],
   "source": [
    "generate_negative_samples(scm_germany, coypu_germany, './data/blocker_data_de.txt', block_de)\n",
    "generate_negative_samples(scm_china, coypu_china, './data/blocker_data_cn.txt', block_cn)\n",
    "generate_negative_samples(scm_usa, coypu_usa, './data/blocker_data_us.txt', block_us)"
   ]
  },
  {
   "attachments": {},
   "cell_type": "markdown",
   "metadata": {},
   "source": [
    "Input data fuzzy matcher"
   ]
  },
  {
   "cell_type": "code",
   "execution_count": 81,
   "metadata": {},
   "outputs": [],
   "source": [
    "fuzzy_results = prep_util.read_csv_file(\"../fuzzy_matcher/fuzzy_results.csv\")"
   ]
  },
  {
   "cell_type": "code",
   "execution_count": 82,
   "metadata": {},
   "outputs": [],
   "source": [
    "# generate country-based datasets\n",
    "fuzzy_results_de = fuzzy_results[fuzzy_results.Country_SCM == 'DE'].reset_index(drop = True)\n",
    "fuzzy_results_us = fuzzy_results[fuzzy_results.Country_SCM == 'US'].reset_index(drop = True)\n",
    "fuzzy_results_cn = fuzzy_results[fuzzy_results.Country_SCM == 'CN'].reset_index(drop = True)"
   ]
  },
  {
   "cell_type": "code",
   "execution_count": 83,
   "metadata": {},
   "outputs": [],
   "source": [
    "fuzzy_results_de = fuzzy_results_de[['best_match_score', \n",
    "                                     'Company_SCM', 'Location_SCM', 'Company_Category_SCM', 'long_SCM', 'lat_SCM',\n",
    "                                     'Company_COYPU', 'Location_COYPU', 'Company_Category_COYPU', 'long_COYPU', 'lat_COYPU'\n",
    "                                    ]]\n",
    "\n",
    "fuzzy_results_us = fuzzy_results_us[['best_match_score', \n",
    "                                     'Company_SCM', 'Location_SCM', 'Company_Category_SCM', 'long_SCM', 'lat_SCM',\n",
    "                                     'Company_COYPU', 'Location_COYPU', 'Company_Category_COYPU', 'long_COYPU', 'lat_COYPU'\n",
    "                                    ]]\n",
    "\n",
    "fuzzy_results_us = fuzzy_results_us[['best_match_score', \n",
    "                                     'Company_SCM', 'Location_SCM', 'Company_Category_SCM', 'long_SCM', 'lat_SCM',\n",
    "                                     'Company_COYPU', 'Location_COYPU', 'Company_Category_COYPU', 'long_COYPU', 'lat_COYPU'\n",
    "                                    ]]"
   ]
  },
  {
   "cell_type": "code",
   "execution_count": 86,
   "metadata": {},
   "outputs": [],
   "source": [
    "THRESHOLD_FUZZY = -0.487\n",
    "def create_col_val_fuzzy_positive(df, filename):\n",
    "    global THRESHOLD_FUZZY\n",
    "    for i in range(len(df['best_match_score']) - 1):\n",
    "        if df['best_match_score'][i] > THRESHOLD_FUZZY:\n",
    "            matched_pair = prep_util.form_colval_pairs([\n",
    "                                                        ['COMPANY', df['Company_SCM'][i]], \n",
    "                                                        ['CO_CATEGORY', df['Company_Category_SCM'][i]],\n",
    "                                                        ['LONG', df['long_SCM'][i]],\n",
    "                                                        ['LAT', df['lat_SCM'][i]]\n",
    "                                                        ], \n",
    "                                                        [\n",
    "                                                        ['COMPANY', df['Company_COYPU'][i]],\n",
    "                                                        ['CO_CATEGORY', df['Company_Category_COYPU'][i]],\n",
    "                                                        ['LONG', df['long_COYPU'][i]],\n",
    "                                                        ['LAT', df['lat_COYPU'][i]]\n",
    "                                                        ],\n",
    "                                                        1)\n",
    "            print(matched_pair)\n",
    "            prep_util.save_txt_to_file(filename, matched_pair + '\\n')"
   ]
  },
  {
   "cell_type": "code",
   "execution_count": null,
   "metadata": {},
   "outputs": [],
   "source": [
    "# count positive values in fuzzy\n",
    "positive_counter_de = len(fuzzy_results_de[fuzzy_results_de.best_match_score > THRESHOLD_FUZZY])\n",
    "positive_counter_us = len(fuzzy_results_us[fuzzy_results_us.best_match_score > THRESHOLD_FUZZY])\n",
    "positive_counter_cn = len(fuzzy_results_cn[fuzzy_results_cn.best_match_score > THRESHOLD_FUZZY])"
   ]
  },
  {
   "cell_type": "code",
   "execution_count": null,
   "metadata": {},
   "outputs": [],
   "source": [
    "# count negative values in fuzzy\n",
    "negative_fuzzy_de = fuzzy_results_de[fuzzy_results_de.best_match_score < THRESHOLD_FUZZY].reset_index(drop = True)\n",
    "negative_fuzzy_us = fuzzy_results_us[fuzzy_results_us.best_match_score < THRESHOLD_FUZZY].reset_index(drop = True)\n",
    "negative_fuzzy_cn = fuzzy_results_cn[fuzzy_results_cn.best_match_score < THRESHOLD_FUZZY].reset_index(drop = True)"
   ]
  },
  {
   "cell_type": "code",
   "execution_count": null,
   "metadata": {},
   "outputs": [],
   "source": [
    "def create_col_val_fuzzy_negative(df, filename, positive_counter):\n",
    "    random_list = set()\n",
    "    for i in range(positive_counter):\n",
    "        random_idx = random.randint(0, len(df['Company_SCM']) - 1)\n",
    "        \n",
    "        while random_idx in random_list:\n",
    "            random_idx = random.randint(0, len(df['Company_SCM']) - 1)\n",
    "\n",
    "        random_list.add(random_idx)\n",
    "\n",
    "        matched_pair = prep_util.form_colval_pairs([\n",
    "                                                    ['COMPANY', df['Company_SCM'][random_idx]], \n",
    "                                                    ['CO_CATEGORY', df['Company_Category_SCM'][random_idx]],\n",
    "                                                    ['LONG', df['long_SCM'][random_idx]],\n",
    "                                                    ['LAT', df['lat_SCM'][random_idx]]\n",
    "                                                    ], \n",
    "                                                    [\n",
    "                                                    ['COMPANY', df['Company_COYPU'][random_idx]],\n",
    "                                                    ['CO_CATEGORY', df['Company_Category_COYPU'][random_idx]],\n",
    "                                                    ['LONG', df['long_COYPU'][random_idx]],\n",
    "                                                    ['LAT', df['lat_COYPU'][random_idx]]\n",
    "                                                    ],\n",
    "                                                    0)\n",
    "        print(matched_pair)\n",
    "        prep_util.save_txt_to_file(filename, matched_pair + '\\n')"
   ]
  },
  {
   "attachments": {},
   "cell_type": "markdown",
   "metadata": {},
   "source": [
    "Generate COLVAL Files"
   ]
  },
  {
   "cell_type": "code",
   "execution_count": null,
   "metadata": {},
   "outputs": [],
   "source": [
    "# generate positive matches for fuzzy matcher input\n",
    "create_col_val_fuzzy_positive(fuzzy_results_de, './data/fuzzy/blocker_data_fuzzy_de.txt')\n",
    "create_col_val_fuzzy_positive(fuzzy_results_us, './data/fuzzy/blocker_data_fuzzy_us.txt')\n",
    "create_col_val_fuzzy_positive(fuzzy_results_cn, './data/fuzzy/blocker_data_fuzzy_cn.txt')"
   ]
  },
  {
   "cell_type": "code",
   "execution_count": null,
   "metadata": {},
   "outputs": [],
   "source": [
    "# generate negative matches for fuzzy matcher input\n",
    "create_col_val_fuzzy_negative(fuzzy_results_de, './data/fuzzy/blocker_data_fuzzy_de_NEW.txt', positive_counter_de)\n",
    "create_col_val_fuzzy_negative(fuzzy_results_us, './data/fuzzy/blocker_data_fuzzy_us_NEW.txt', positive_counter_us)\n",
    "create_col_val_fuzzy_negative(fuzzy_results_cn, './data/fuzzy/blocker_data_fuzzy_cn_NEW.txt', positive_counter_cn)"
   ]
  }
 ],
 "metadata": {
  "kernelspec": {
   "display_name": "Python 3",
   "language": "python",
   "name": "python3"
  },
  "language_info": {
   "codemirror_mode": {
    "name": "ipython",
    "version": 3
   },
   "file_extension": ".py",
   "mimetype": "text/x-python",
   "name": "python",
   "nbconvert_exporter": "python",
   "pygments_lexer": "ipython3",
   "version": "3.7.7"
  },
  "orig_nbformat": 4
 },
 "nbformat": 4,
 "nbformat_minor": 2
}
