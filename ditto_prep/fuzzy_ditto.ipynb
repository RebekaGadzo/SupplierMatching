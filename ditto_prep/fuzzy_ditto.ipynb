{
 "cells": [
  {
   "cell_type": "code",
   "execution_count": 1,
   "metadata": {},
   "outputs": [],
   "source": [
    "import random\n",
    "import data_prep_ditto_util as prep_util\n",
    "%load_ext autoreload\n",
    "%autoreload 2"
   ]
  },
  {
   "cell_type": "code",
   "execution_count": 2,
   "metadata": {},
   "outputs": [],
   "source": [
    "fuzzy_results = prep_util.read_csv_file(\"../fuzzy_matcher/fuzzy_results.csv\")"
   ]
  },
  {
   "attachments": {},
   "cell_type": "markdown",
   "metadata": {},
   "source": [
    "Generate country-based datasets"
   ]
  },
  {
   "cell_type": "code",
   "execution_count": 3,
   "metadata": {},
   "outputs": [],
   "source": [
    "fuzzy_results_de = fuzzy_results[fuzzy_results.Country_SCM == 'DE'].reset_index(drop = True)\n",
    "fuzzy_results_us = fuzzy_results[fuzzy_results.Country_SCM == 'US'].reset_index(drop = True)\n",
    "fuzzy_results_cn = fuzzy_results[fuzzy_results.Country_SCM == 'CN'].reset_index(drop = True)\n",
    "\n",
    "fuzzy_results_de = fuzzy_results_de[['best_match_score', \n",
    "                                     'Company_SCM', 'Location_SCM', 'Company_Category_SCM', 'long_SCM', 'lat_SCM',\n",
    "                                     'Company_COYPU', 'Location_COYPU', 'Company_Category_COYPU', 'long_COYPU', 'lat_COYPU'\n",
    "                                    ]]\n",
    "\n",
    "fuzzy_results_us = fuzzy_results_us[['best_match_score', \n",
    "                                     'Company_SCM', 'Location_SCM', 'Company_Category_SCM', 'long_SCM', 'lat_SCM',\n",
    "                                     'Company_COYPU', 'Location_COYPU', 'Company_Category_COYPU', 'long_COYPU', 'lat_COYPU'\n",
    "                                    ]]\n",
    "\n",
    "fuzzy_results_us = fuzzy_results_us[['best_match_score', \n",
    "                                     'Company_SCM', 'Location_SCM', 'Company_Category_SCM', 'long_SCM', 'lat_SCM',\n",
    "                                     'Company_COYPU', 'Location_COYPU', 'Company_Category_COYPU', 'long_COYPU', 'lat_COYPU'\n",
    "                                    ]]\n"
   ]
  },
  {
   "cell_type": "code",
   "execution_count": 4,
   "metadata": {},
   "outputs": [],
   "source": [
    "THRESHOLD_FUZZY = -0.05 \n",
    "def create_col_val_fuzzy_positive(df, filename):\n",
    "    global THRESHOLD_FUZZY\n",
    "    for i in range(len(df['best_match_score']) - 1):\n",
    "        if df['best_match_score'][i] > THRESHOLD_FUZZY:\n",
    "            matched_pair = prep_util.form_colval_pairs([\n",
    "                                                        ['COMPANY', df['Company_SCM'][i]], \n",
    "                                                        ['CO_CATEGORY', df['Company_Category_SCM'][i]],\n",
    "                                                        ['LONG', df['long_SCM'][i]],\n",
    "                                                        ['LAT', df['lat_SCM'][i]]\n",
    "                                                        ], \n",
    "                                                        [\n",
    "                                                        ['COMPANY', df['Company_COYPU'][i]],\n",
    "                                                        ['CO_CATEGORY', df['Company_Category_COYPU'][i]],\n",
    "                                                        ['LONG', df['long_COYPU'][i]],\n",
    "                                                        ['LAT', df['lat_COYPU'][i]]\n",
    "                                                        ],\n",
    "                                                        1)\n",
    "            print(matched_pair)\n",
    "            prep_util.save_txt_to_file(filename, matched_pair + '\\n')\n",
    "\n"
   ]
  },
  {
   "cell_type": "code",
   "execution_count": 5,
   "metadata": {},
   "outputs": [],
   "source": [
    "#count positive values in fuzzy\n",
    "positive_counter_de = len(fuzzy_results_de[fuzzy_results_de.best_match_score > THRESHOLD_FUZZY])\n",
    "positive_counter_us = len(fuzzy_results_us[fuzzy_results_us.best_match_score > THRESHOLD_FUZZY])\n",
    "positive_counter_cn = len(fuzzy_results_cn[fuzzy_results_cn.best_match_score > THRESHOLD_FUZZY])\n",
    "\n",
    "negative_fuzzy_de = fuzzy_results_de[fuzzy_results_de.best_match_score < THRESHOLD_FUZZY].reset_index(drop = True)\n",
    "negative_fuzzy_us = fuzzy_results_us[fuzzy_results_us.best_match_score < THRESHOLD_FUZZY].reset_index(drop = True)\n",
    "negative_fuzzy_cn = fuzzy_results_cn[fuzzy_results_cn.best_match_score < THRESHOLD_FUZZY].reset_index(drop = True)\n",
    "\n"
   ]
  },
  {
   "cell_type": "code",
   "execution_count": 12,
   "metadata": {},
   "outputs": [],
   "source": [
    "def create_col_val_fuzzy_negative(df, filename, positive_counter):\n",
    "    random_list = set()\n",
    "    for i in range(positive_counter):\n",
    "        random_idx = random.randint(0, len(df['Company_SCM']) - 1)\n",
    "        \n",
    "        while random_idx in random_list:\n",
    "            random_idx = random.randint(0, len(df['Company_SCM']) - 1)\n",
    "\n",
    "        random_list.add(random_idx)\n",
    "\n",
    "        matched_pair = prep_util.form_colval_pairs([\n",
    "                                                    ['COMPANY', df['Company_SCM'][random_idx]], \n",
    "                                                    ['CO_CATEGORY', df['Company_Category_SCM'][random_idx]],\n",
    "                                                    ['LONG', df['long_SCM'][random_idx]],\n",
    "                                                    ['LAT', df['lat_SCM'][random_idx]]\n",
    "                                                    ], \n",
    "                                                    [\n",
    "                                                    ['COMPANY', df['Company_COYPU'][random_idx]],\n",
    "                                                    ['CO_CATEGORY', df['Company_Category_COYPU'][random_idx]],\n",
    "                                                    ['LONG', df['long_COYPU'][random_idx]],\n",
    "                                                    ['LAT', df['lat_COYPU'][random_idx]]\n",
    "                                                    ],\n",
    "                                                    0)\n",
    "        print(matched_pair)\n",
    "        prep_util.save_txt_to_file(filename, matched_pair + '\\n')\n"
   ]
  },
  {
   "attachments": {},
   "cell_type": "markdown",
   "metadata": {},
   "source": [
    "Generate COLVAL Files"
   ]
  },
  {
   "cell_type": "code",
   "execution_count": null,
   "metadata": {},
   "outputs": [],
   "source": [
    "create_col_val_fuzzy_positive(fuzzy_results_de, './data/fuzzy/blocker_data_fuzzy_de_NEW.txt')\n",
    "create_col_val_fuzzy_positive(fuzzy_results_us, './data/fuzzy/blocker_data_fuzzy_us_NEW.txt')\n",
    "create_col_val_fuzzy_positive(fuzzy_results_cn, './data/fuzzy/blocker_data_fuzzy_cn_NEW.txt')"
   ]
  },
  {
   "cell_type": "code",
   "execution_count": null,
   "metadata": {},
   "outputs": [],
   "source": [
    "create_col_val_fuzzy_negative(fuzzy_results_de, './data/fuzzy/blocker_data_fuzzy_de_NEW.txt', positive_counter_de)\n",
    "create_col_val_fuzzy_negative(fuzzy_results_us, './data/fuzzy/blocker_data_fuzzy_us_NEW.txt', positive_counter_us)\n",
    "create_col_val_fuzzy_negative(fuzzy_results_cn, './data/fuzzy/blocker_data_fuzzy_cn_NEW.txt', positive_counter_cn)"
   ]
  },
  {
   "attachments": {},
   "cell_type": "markdown",
   "metadata": {},
   "source": [
    "Shuffle and Split the Content"
   ]
  },
  {
   "cell_type": "code",
   "execution_count": 15,
   "metadata": {},
   "outputs": [],
   "source": [
    "prep_util.shuffle_txtfile_lines('./data/fuzzy/blocker_data_fuzzy_de_NEW.txt')\n",
    "prep_util.split_data('./data/fuzzy/blocker_data_fuzzy_de_NEW.txt')\n",
    "\n",
    "prep_util.shuffle_txtfile_lines('./data/fuzzy/blocker_data_fuzzy_us_NEW.txt')\n",
    "prep_util.split_data('./data/fuzzy/blocker_data_fuzzy_us_NEW.txt')\n",
    "\n",
    "prep_util.shuffle_txtfile_lines('./data/fuzzy/blocker_data_fuzzy_cn_NEW.txt')\n",
    "prep_util.split_data('./data/fuzzy/blocker_data_fuzzy_cn_NEW.txt')"
   ]
  }
 ],
 "metadata": {
  "kernelspec": {
   "display_name": "Python 3",
   "language": "python",
   "name": "python3"
  },
  "language_info": {
   "codemirror_mode": {
    "name": "ipython",
    "version": 3
   },
   "file_extension": ".py",
   "mimetype": "text/x-python",
   "name": "python",
   "nbconvert_exporter": "python",
   "pygments_lexer": "ipython3",
   "version": "3.7.7"
  },
  "orig_nbformat": 4
 },
 "nbformat": 4,
 "nbformat_minor": 2
}
