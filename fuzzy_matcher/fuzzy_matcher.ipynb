{
 "cells": [
  {
   "cell_type": "code",
   "execution_count": 2,
   "metadata": {},
   "outputs": [],
   "source": [
    "#from pathlib import Path\n",
    "#! pip install fuzzymatcher\n",
    "import fuzzymatcher\n",
    "import pandas as pd"
   ]
  },
  {
   "attachments": {},
   "cell_type": "markdown",
   "metadata": {},
   "source": [
    "Load Input Data"
   ]
  },
  {
   "cell_type": "code",
   "execution_count": 3,
   "metadata": {},
   "outputs": [],
   "source": [
    "PATH = \"../data_preparation/data/\"\n",
    "coypu = pd.read_csv(PATH + \"COYPU_prep_data.csv\")\n",
    "scm = pd.read_csv(PATH + \"SCM_prep_data.csv\")"
   ]
  },
  {
   "cell_type": "code",
   "execution_count": 5,
   "metadata": {},
   "outputs": [],
   "source": [
    "scm.rename(columns={\"Parsed_Company\": \"Company_SCM\", \"Country\": \"Country_SCM\", \"Location\":\"Location_SCM\", \"Company_Category\": \"Company_Category_SCM\", \"long\": \"long_SCM\", \"lat\": \"lat_SCM\"}, inplace = True)\n",
    "coypu.rename(columns={\"Parsed_Company\": \"Company_COYPU\", \"Country\": \"Country_COYPU\", \"Parsed_City\":\"Location_COYPU\", \"Company_Category\": \"Company_Category_COYPU\", \"long\": \"long_COYPU\", \"lat\": \"lat_COYPU\"}, inplace = True)"
   ]
  },
  {
   "cell_type": "code",
   "execution_count": 7,
   "metadata": {},
   "outputs": [],
   "source": [
    "coypu = coypu[['company', 'Company_COYPU', 'Country_COYPU', 'Location_COYPU', 'Company_Category_COYPU', 'long_COYPU', 'lat_COYPU']]\n",
    "scm = scm[['index', 'Company_SCM', 'Country_SCM', 'Location_SCM', 'Company_Category_SCM', 'long_SCM', 'lat_SCM']]"
   ]
  },
  {
   "attachments": {},
   "cell_type": "markdown",
   "metadata": {},
   "source": [
    "Prepare the fuzzymatcher Input"
   ]
  },
  {
   "cell_type": "code",
   "execution_count": 11,
   "metadata": {},
   "outputs": [],
   "source": [
    "left_on = ['Company_SCM', 'Country_SCM', 'Company_Category_SCM', 'long_SCM', 'lat_SCM']\n",
    "right_on = ['Company_COYPU', 'Country_COYPU', 'Company_Category_COYPU', 'long_COYPU', 'lat_COYPU']\n",
    "\n",
    "matched_results = fuzzymatcher.fuzzy_left_join(scm,\n",
    "                                            coypu,\n",
    "                                            left_on,\n",
    "                                            right_on,\n",
    "                                            left_id_col='index',\n",
    "                                            right_id_col='company')\n",
    "\n"
   ]
  },
  {
   "cell_type": "code",
   "execution_count": 15,
   "metadata": {},
   "outputs": [],
   "source": [
    "cols = ['best_match_score', \"Company_SCM\", \"Country_SCM\", \"Company_COYPU\", \"Country_COYPU\"]"
   ]
  },
  {
   "cell_type": "code",
   "execution_count": 17,
   "metadata": {},
   "outputs": [],
   "source": [
    "del matched_results['__id_left']\n",
    "del matched_results['__id_right']"
   ]
  },
  {
   "cell_type": "code",
   "execution_count": 18,
   "metadata": {},
   "outputs": [],
   "source": [
    "matched_results.sort_values(by=['best_match_score'], ascending=False).to_csv('fuzzy_results.csv', index = False)"
   ]
  },
  {
   "cell_type": "code",
   "execution_count": null,
   "metadata": {},
   "outputs": [],
   "source": [
    "matched_results[cols].sort_values(by=['best_match_score'], ascending=False)"
   ]
  },
  {
   "cell_type": "code",
   "execution_count": null,
   "metadata": {},
   "outputs": [],
   "source": [
    "matched_results.to_csv('./fuzzy_results.csv')"
   ]
  }
 ],
 "metadata": {
  "kernelspec": {
   "display_name": "Python 3",
   "language": "python",
   "name": "python3"
  },
  "language_info": {
   "codemirror_mode": {
    "name": "ipython",
    "version": 3
   },
   "file_extension": ".py",
   "mimetype": "text/x-python",
   "name": "python",
   "nbconvert_exporter": "python",
   "pygments_lexer": "ipython3",
   "version": "3.7.7"
  },
  "orig_nbformat": 4
 },
 "nbformat": 4,
 "nbformat_minor": 2
}
